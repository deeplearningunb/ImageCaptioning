{
 "cells": [
  {
   "cell_type": "code",
   "execution_count": 1,
   "metadata": {},
   "outputs": [],
   "source": [
    "import cv2\n",
    "import glob\n",
    "import tensorflow as tf\n",
    "import numpy as np\n",
    "import pickle\n",
    "import os"
   ]
  },
  {
   "cell_type": "code",
   "execution_count": 2,
   "metadata": {},
   "outputs": [],
   "source": [
    "# image related data\n",
    "images_name = []\n",
    "images_list = []\n",
    "images_features = {}\n",
    "img_features_path = os.path.join('../dataset/pkl/train2048.pkl')\n",
    "\n",
    "# caption related data\n",
    "captions_list = []\n",
    "captions_mapped = {}\n",
    "vocab = {}\n",
    "\n",
    "# encode model for preprocessing\n",
    "encode_model = None"
   ]
  },
  {
   "cell_type": "code",
   "execution_count": 3,
   "metadata": {},
   "outputs": [],
   "source": [
    "path = '../dataset/images/Flicker8k_Dataset/*.jpg'\n",
    "for img in glob.glob(path):\n",
    "    if not os.path.exists(img_features_path):\n",
    "        image = cv2.imread(img)\n",
    "        image = cv2.cvtColor(image, cv2.COLOR_BGR2RGB)\n",
    "        image = cv2.resize(image, (299,299))\n",
    "        images_list.append(image)\n",
    "    img = img.split('/')[-1]\n",
    "    images_name.append(img)"
   ]
  },
  {
   "cell_type": "code",
   "execution_count": 4,
   "metadata": {},
   "outputs": [],
   "source": [
    "x = tf.keras.applications.InceptionV3(include_top=True, weights='imagenet')\n",
    "encode_model = tf.keras.models.Model(x.input, x.layers[-2].output)"
   ]
  },
  {
   "cell_type": "code",
   "execution_count": 5,
   "metadata": {},
   "outputs": [
    {
     "name": "stdout",
     "output_type": "stream",
     "text": [
      "File already exist, opening...\n"
     ]
    }
   ],
   "source": [
    "if not os.path.exists(img_features_path):\n",
    "    for j in range(0,len(images_list)):\n",
    "        i = images_list[j].reshape(1,299,299,3)\n",
    "        i = encode_model.predict(i).reshape(2048,)\n",
    "        images_features[images_name[j]] = i\n",
    "\n",
    "    with open(img_features_path, 'wb') as f:\n",
    "        pickle.dump(self.images_features, f)\n",
    "\n",
    "else:\n",
    "    print('File already exist, opening...')\n",
    "    with open(img_features_path, 'rb') as f:\n",
    "        images_features = pickle.load(f)"
   ]
  },
  {
   "cell_type": "code",
   "execution_count": 6,
   "metadata": {},
   "outputs": [],
   "source": [
    "f = open('../dataset/text/Flickr8k.token.txt', 'rb')\n",
    "captions_list = f.read().decode('utf-8').split('\\n')\n",
    "\n",
    "for i in captions_list:\n",
    "    name = i.split('\\t')[0][:-2]\n",
    "    caption = i.split('\\t')[1]\n",
    "    caption = caption.lower()\n",
    "    caption = 'sequencestart ' + caption + ' sequenceend'\n",
    "\n",
    "    if name in images_name:\n",
    "        if name not in captions_mapped:\n",
    "            captions_mapped[name] = [caption]\n",
    "        else:\n",
    "            captions_mapped[name].append(caption)"
   ]
  },
  {
   "cell_type": "code",
   "execution_count": 7,
   "metadata": {},
   "outputs": [],
   "source": [
    "mapped_number = 1\n",
    "for w in captions_mapped.values():\n",
    "    for words in w:\n",
    "        for word in words.split():\n",
    "            if word not in vocab:\n",
    "                vocab[word] = mapped_number\n",
    "                mapped_number += 1\n",
    "\n",
    "for i, w in captions_mapped.items():\n",
    "    for words in w:\n",
    "        mapped = []\n",
    "        for word in words.split():\n",
    "            mapped.append(vocab[word])\n",
    "\n",
    "        captions_mapped[i][w.index(words)] = mapped"
   ]
  },
  {
   "cell_type": "code",
   "execution_count": 8,
   "metadata": {},
   "outputs": [
    {
     "data": {
      "text/plain": [
       "8091"
      ]
     },
     "execution_count": 8,
     "metadata": {},
     "output_type": "execute_result"
    }
   ],
   "source": [
    "len(captions_mapped)"
   ]
  },
  {
   "cell_type": "code",
   "execution_count": 9,
   "metadata": {},
   "outputs": [
    {
     "data": {
      "text/plain": [
       "[[1, 2, 3, 4, 2, 5, 6, 7, 8, 9, 2, 10, 11, 12, 4, 13, 14, 15, 16, 17],\n",
       " [1, 2, 18, 19, 20, 2, 21, 22, 16, 17],\n",
       " [1, 2, 23, 18, 8, 20, 2, 21, 24, 16, 17],\n",
       " [1, 2, 23, 18, 8, 25, 12, 26, 27, 24, 16, 17],\n",
       " [1, 2, 23, 18, 4, 2, 5, 6, 19, 20, 2, 21, 28, 16, 17]]"
      ]
     },
     "execution_count": 9,
     "metadata": {},
     "output_type": "execute_result"
    }
   ],
   "source": [
    "captions_mapped['1000268201_693b08cb0e.jpg']"
   ]
  },
  {
   "cell_type": "code",
   "execution_count": 10,
   "metadata": {},
   "outputs": [],
   "source": [
    "MAX_LEN = 0\n",
    "for img_name, captions in captions_mapped.items():\n",
    "    for caption in captions:\n",
    "        if len(caption) > MAX_LEN:\n",
    "            MAX_LEN = len(caption)"
   ]
  },
  {
   "cell_type": "code",
   "execution_count": 11,
   "metadata": {},
   "outputs": [
    {
     "data": {
      "text/plain": [
       "40"
      ]
     },
     "execution_count": 11,
     "metadata": {},
     "output_type": "execute_result"
    }
   ],
   "source": [
    "MAX_LEN"
   ]
  },
  {
   "cell_type": "code",
   "execution_count": 12,
   "metadata": {},
   "outputs": [],
   "source": [
    "def generator():\n",
    "    X = []\n",
    "    y_in = []\n",
    "    y_out = []\n",
    "    j = 0\n",
    "    while True:\n",
    "        for img_name, captions in captions_mapped.items():\n",
    "            j += 1\n",
    "            for caption in captions:\n",
    "                for i in range(1, len(caption)):\n",
    "                    X.append(images_features[img_name])\n",
    "\n",
    "                    in_seq = [caption[:i]]\n",
    "                    out_seq = caption[i]\n",
    "\n",
    "                    in_seq = tf.keras.preprocessing.sequence.pad_sequences(\n",
    "                        in_seq, \n",
    "                        maxlen=MAX_LEN, \n",
    "                        padding='post', \n",
    "                        truncating='post')[0]\n",
    "\n",
    "                    out_seq = tf.keras.utils.to_categorical([out_seq], num_classes=len(vocab) + 1)[0]\n",
    "\n",
    "                    y_in.append(in_seq)\n",
    "                    y_out.append(out_seq)\n",
    "            if j == 1500:\n",
    "                yield (np.array(X), np.array(y_in), np.array(y_out))\n",
    "                X = []\n",
    "                y_in = []\n",
    "                y_out = []\n",
    "                j=0"
   ]
  }
 ],
 "metadata": {
  "kernelspec": {
   "display_name": "Python 3",
   "language": "python",
   "name": "python3"
  },
  "language_info": {
   "codemirror_mode": {
    "name": "ipython",
    "version": 3
   },
   "file_extension": ".py",
   "mimetype": "text/x-python",
   "name": "python",
   "nbconvert_exporter": "python",
   "pygments_lexer": "ipython3",
   "version": "3.8.5"
  }
 },
 "nbformat": 4,
 "nbformat_minor": 4
}
